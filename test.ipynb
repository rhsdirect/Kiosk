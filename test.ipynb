{
 "cells": [
  {
   "cell_type": "code",
   "execution_count": 5,
   "metadata": {},
   "outputs": [
    {
     "name": "stdout",
     "output_type": "stream",
     "text": [
      "pano_id='Ic-OjZRegbRrXOQTVAdbgA' lat=14.34682236406171 lon=120.9246091439662 heading=177.9833526611328 pitch=88.74276733398438 roll=359.2633056640625 date='2014-12'\n"
     ]
    }
   ],
   "source": [
    "from streetview import search_panoramas\n",
    "\n",
    "panos = search_panoramas(lat=14.3468281, lon=120.9246469)\n",
    "first = panos[0]\n",
    "\n",
    "print(first)\n",
    "# pano_id='_R1mwpMkiqa2p0zp48EBJg' lat=41.89820676786453 lon=12.47644220919742 heading=0.8815613985061646 pitch=89.001953125 roll=0.1744659692049026 date='2019-08'"
   ]
  },
  {
   "cell_type": "code",
   "execution_count": 6,
   "metadata": {},
   "outputs": [],
   "source": [
    "from streetview import get_panorama\n",
    "\n",
    "image = get_panorama(pano_id=\"Ic-OjZRegbRrXOQTVAdbgA\")\n",
    "\n",
    "image.save(\"image3.jpg\", \"jpeg\")"
   ]
  },
  {
   "cell_type": "code",
   "execution_count": 3,
   "metadata": {},
   "outputs": [
    {
     "name": "stdout",
     "output_type": "stream",
     "text": [
      "Labels:\n",
      "CHAT 1\n",
      "SENT 1\n",
      "INBOX 1\n",
      "IMPORTANT 1\n",
      "TRASH 1\n",
      "DRAFT 1\n",
      "SPAM 1\n",
      "CATEGORY_FORUMS 1\n",
      "CATEGORY_UPDATES 1\n",
      "CATEGORY_PERSONAL 1\n",
      "CATEGORY_PROMOTIONS 1\n",
      "CATEGORY_SOCIAL 1\n",
      "STARRED 1\n",
      "UNREAD 1\n"
     ]
    }
   ],
   "source": [
    "# QuickStart\n",
    "import os.path\n",
    "\n",
    "from google.auth.transport.requests import Request\n",
    "from google.oauth2.credentials import Credentials\n",
    "from google_auth_oauthlib.flow import InstalledAppFlow\n",
    "from googleapiclient.discovery import build\n",
    "from googleapiclient.errors import HttpError\n",
    "\n",
    "# If modifying these scopes, delete the file token.json.\n",
    "SCOPES = [\"https://www.googleapis.com/auth/gmail.readonly\"]\n",
    "\n",
    "\n",
    "def main():\n",
    "  \"\"\"Shows basic usage of the Gmail API.\n",
    "  Lists the user's Gmail labels.\n",
    "  \"\"\"\n",
    "  creds = None\n",
    "  # The file token.json stores the user's access and refresh tokens, and is\n",
    "  # created automatically when the authorization flow completes for the first\n",
    "  # time.\n",
    "  if os.path.exists(\"token.json\"):\n",
    "    creds = Credentials.from_authorized_user_file(\"token.json\", SCOPES)\n",
    "  # If there are no (valid) credentials available, let the user log in.\n",
    "  if not creds or not creds.valid:\n",
    "    if creds and creds.expired and creds.refresh_token:\n",
    "      creds.refresh(Request())\n",
    "    else:\n",
    "      flow = InstalledAppFlow.from_client_secrets_file(\n",
    "          \"credentials.json\", SCOPES\n",
    "      )\n",
    "      creds = flow.run_local_server(port=8080)\n",
    "    # Save the credentials for the next run\n",
    "    with open(\"token.json\", \"w\") as token:\n",
    "      token.write(creds.to_json())\n",
    "\n",
    "  try:\n",
    "    # Call the Gmail API\n",
    "    service = build(\"gmail\", \"v1\", credentials=creds)\n",
    "    results = service.users().labels().list(userId=\"me\").execute()\n",
    "    labels = results.get(\"labels\", [])\n",
    "\n",
    "    if not labels:\n",
    "      print(\"No labels found.\")\n",
    "      return\n",
    "    print(\"Labels:\")\n",
    "    for label in labels:\n",
    "      print(label[\"name\"])\n",
    "\n",
    "  except HttpError as error:\n",
    "    # TODO(developer) - Handle errors from gmail API.\n",
    "    print(f\"An error occurred: {error}\")\n",
    "\n",
    "\n",
    "if __name__ == \"__main__\":\n",
    "  main()"
   ]
  },
  {
   "cell_type": "code",
   "execution_count": 20,
   "metadata": {},
   "outputs": [
    {
     "name": "stdout",
     "output_type": "stream",
     "text": [
      "Email sent!\n"
     ]
    }
   ],
   "source": [
    "import smtplib\n",
    "\n",
    "# =============================================================================\n",
    "# SET EMAIL LOGIN REQUIREMENTS\n",
    "# =============================================================================\n",
    "gmail_user = 'rhs.direct@gmail.com'\n",
    "# gmail_app_password = 'Kiosk_admin01'\n",
    "gmail_app_password = 'nsgo jsmt uxxn diuw'\n",
    "\n",
    "# =============================================================================\n",
    "# SET THE INFO ABOUT THE SAID EMAIL\n",
    "# =============================================================================\n",
    "sent_from = gmail_user\n",
    "sent_to = ['stevenjakefajarillocas@gmail.com']\n",
    "sent_subject = \"Hey Friends!\"\n",
    "sent_body = (\"<img /><b>Test</b>Hey, what's up? friend!\\n\\n\"\n",
    "             \"I hope you have been well!\\n\"\n",
    "             \"\\n\"\n",
    "             \"Cheers,\\n\"\n",
    "             \"Jay\\n\")\n",
    "\n",
    "email_text = \"\"\"\\\n",
    "From: %s\n",
    "To: %s\n",
    "Subject: %s\n",
    "\n",
    "%s\n",
    "\"\"\" % (sent_from, \", \".join(sent_to), sent_subject, sent_body)\n",
    "\n",
    "# =============================================================================\n",
    "# SEND EMAIL OR DIE TRYING!!!\n",
    "# Details: http://www.samlogic.net/articles/smtp-commands-reference.htm\n",
    "# =============================================================================\n",
    "\n",
    "try:\n",
    "    server = smtplib.SMTP_SSL('smtp.gmail.com', 465)\n",
    "    server.ehlo()\n",
    "    server.login(gmail_user, gmail_app_password)\n",
    "    server.sendmail(sent_from, sent_to, email_text)\n",
    "    server.close()\n",
    "\n",
    "    print('Email sent!')\n",
    "except Exception as exception:\n",
    "    print(\"Error: %s!\\n\\n\" % exception)"
   ]
  },
  {
   "cell_type": "code",
   "execution_count": 21,
   "metadata": {},
   "outputs": [
    {
     "name": "stdout",
     "output_type": "stream",
     "text": [
      "Email sent successfully!\n"
     ]
    }
   ],
   "source": [
    "import smtplib\n",
    "from email.mime.multipart import MIMEMultipart\n",
    "from email.mime.text import MIMEText\n",
    "import os\n",
    "from dotenv import load_dotenv\n",
    "\n",
    "# Load environment variables from a .env file\n",
    "load_dotenv()\n",
    "\n",
    "# Define the email sender and receiver\n",
    "email_sender = \"rhs.direct@gmail.com\"\n",
    "email_password = 'nsgo jsmt uxxn diuw'\n",
    "email_receiver = 'stevenjakefajarillocas@gmail.com'\n",
    "\n",
    "# Create the MIMEMultipart object\n",
    "msg = MIMEMultipart()\n",
    "msg['From'] = email_sender\n",
    "msg['To'] = email_receiver\n",
    "msg['Subject'] = 'Test Email with HTML Formatting'\n",
    "\n",
    "# Create the body of the email\n",
    "html = \"\"\"\n",
    "<html>\n",
    "  <body>\n",
    "    <h1>Hello,</h1>\n",
    "    <p>This is a <b>test email</b> with HTML formatting.</p>\n",
    "    <p>Best regards,<br>Your Name</p>\n",
    "  </body>\n",
    "</html>\n",
    "\"\"\"\n",
    "\n",
    "# Attach the HTML body to the email\n",
    "msg.attach(MIMEText(html, 'html'))\n",
    "\n",
    "# Set up the SMTP server\n",
    "# server = smtplib.SMTP('smtp.gmail.com', 465)\n",
    "server = smtplib.SMTP('smtp.gmail.com', 587)\n",
    "server.starttls()\n",
    "server.login(email_sender, email_password)\n",
    "\n",
    "# Send the email\n",
    "server.send_message(msg)\n",
    "server.quit()\n",
    "\n",
    "print('Email sent successfully!')\n"
   ]
  }
 ],
 "metadata": {
  "kernelspec": {
   "display_name": "Python 3",
   "language": "python",
   "name": "python3"
  },
  "language_info": {
   "codemirror_mode": {
    "name": "ipython",
    "version": 3
   },
   "file_extension": ".py",
   "mimetype": "text/x-python",
   "name": "python",
   "nbconvert_exporter": "python",
   "pygments_lexer": "ipython3",
   "version": "3.11.4"
  }
 },
 "nbformat": 4,
 "nbformat_minor": 2
}
